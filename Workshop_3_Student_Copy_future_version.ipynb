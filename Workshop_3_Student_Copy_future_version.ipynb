{
  "cells": [
    {
      "cell_type": "markdown",
      "metadata": {
        "id": "POkrqmgRqgHE"
      },
      "source": [
        "# **MFRE Data Analytics Workshop 3 - Python I**\n",
        "\n",
        "[Student Name]\n",
        "\n",
        "November ____, 2023"
      ]
    },
    {
      "cell_type": "code",
      "execution_count": null,
      "metadata": {},
      "outputs": [],
      "source": [
        "from IPython.display import Image"
      ]
    },
    {
      "cell_type": "markdown",
      "metadata": {
        "id": "s303NHH3q1Og"
      },
      "source": [
        "## Try it out"
      ]
    },
    {
      "cell_type": "code",
      "execution_count": null,
      "metadata": {},
      "outputs": [],
      "source": [
        "# run this cell with Ctrl + Enter\n",
        "\n",
        "print(\"MFRE!\")"
      ]
    },
    {
      "cell_type": "code",
      "execution_count": null,
      "metadata": {},
      "outputs": [],
      "source": [
        "# run this cell with Shift + Enter\n",
        "# it will automatically move you to the next\n",
        "print(\"Python!\")"
      ]
    },
    {
      "cell_type": "code",
      "execution_count": null,
      "metadata": {
        "id": "tuWTUHvOfo_E"
      },
      "outputs": [],
      "source": [
        "# comment this terrible code out with Ctrl + /\n",
        "def bad_function(variable_2):"
      ]
    },
    {
      "cell_type": "code",
      "execution_count": null,
      "metadata": {
        "id": "5foGBnbrmz6G"
      },
      "outputs": [],
      "source": [
        "# print out the sum of 2 + 2\n"
      ]
    },
    {
      "cell_type": "code",
      "execution_count": null,
      "metadata": {},
      "outputs": [],
      "source": [
        "# print \"Hello World\""
      ]
    },
    {
      "cell_type": "markdown",
      "metadata": {
        "id": "pTTy1kduq3VD"
      },
      "source": [
        "# Basic Data Types: Strings, integers, and floats\n",
        "\n",
        "Python stores information in `objects` of different data types.\n",
        "\n",
        "- Strings: sets of characters, contained in quotation marks (\"\")\n",
        "> -   e.g. \"alphabet\"\n",
        "\n",
        "- Integers: round numbers\n",
        "> -   e.g. 100500\n",
        "\n",
        "- Floats: decimal-place numbers\n",
        "> -   e.g. 100.32994\n",
        "\n",
        "\n",
        "### How is this useful?\n",
        "\n",
        "These basic data types are foundational to most anything you would do. Datasets are largely just collections of these types. And you'll very often be setting individual variables yourself, as part of scripts or to keep data available. "
      ]
    },
    {
      "cell_type": "code",
      "execution_count": null,
      "metadata": {},
      "outputs": [],
      "source": [
        "# assign \"Data Carpentry\" to the object text\n",
        "# text = insert_code_here\n",
        "\n",
        "text = \n",
        "\n",
        "# assign 42 to the object number\n",
        "# insert_code_here\n",
        "\n",
        "number = \n",
        "\n",
        "# assign 3.1415 to the object pi_value\n",
        "# insert_code_here\n",
        "\n",
        "pi_value = \n",
        "\n",
        "# print text\n",
        "# use print() to print the value of number\n",
        "# use print() to print the value of text\n",
        "\n",
        "print()\n",
        "print()"
      ]
    },
    {
      "cell_type": "markdown",
      "metadata": {},
      "source": [
        "You can return the type of an object with the `type()` function - write the object's name in the brackets, then run the cell."
      ]
    },
    {
      "cell_type": "code",
      "execution_count": 2,
      "metadata": {
        "colab": {
          "base_uri": "https://localhost:8080/"
        },
        "id": "WkaOwRtJgdSm",
        "outputId": "b60a6954-52d7-4b86-bb4e-6251ddc0a46f"
      },
      "outputs": [],
      "source": [
        "# take the types of all variables created above\n",
        "\n",
        "\n"
      ]
    },
    {
      "cell_type": "markdown",
      "metadata": {
        "id": "B_Rb7lAwQ0m7"
      },
      "source": [
        "# Artithmetic Operators\n",
        "\n",
        "Python is great for doing math. It recognizes all of the arithmetic operators you use regularly, and some you don't!\n",
        "\n",
        "- Addition: +\n",
        "- Subtraction: -\n",
        "- Multiplication: *\n",
        "- Exponentiation: **\n",
        "- Division: /\n",
        "- Modulo: %\n",
        "\n",
        "### How is this useful?\n",
        "\n",
        "Don't we all love math? No?\n",
        "\n",
        "Regardless, you'll often be using these for empirical work. Say you have a `gdp` variable with countries GDPs, and `population` with those countries population counts. You could divide the `gdp` values by the `population` values to get GDP/Capita.\n",
        "\n",
        "When making more complex scripts, you'll also use these as part of controlling what Python does."
      ]
    },
    {
      "cell_type": "code",
      "execution_count": null,
      "metadata": {},
      "outputs": [],
      "source": [
        "# Addition: +\n",
        "# insert_code_here\n",
        "print(\"Addition:\")\n",
        "addition = \n",
        "print()\n",
        "\n",
        "# Subtraction: -\n",
        "# insert_code_here\n",
        "print(\"Subtraction:\")\n",
        "subtraction = \n",
        "print()\n",
        "\n",
        "\n",
        "# Multiplication: *\n",
        "# insert_code_here\n",
        "print(\"Multiplication\")\n",
        "multiplication = \n",
        "print()\n",
        "\n",
        "# Power: **\n",
        "# insert_code_here\n",
        "print(\"Exponent\")\n",
        "power_1 = \n",
        "power_2 = \n",
        "print()\n",
        "print()\n",
        "\n",
        "# Modulo: %\n",
        "# insert_code_here\n",
        "print(\"Modulo\")\n",
        "modulo_1 = \n",
        "modulo_2 = \n",
        "print()\n",
        "print()\n",
        "\n",
        "# Division: /\n",
        "# insert_code_here\n",
        "print(\"Division\")\n",
        "division_1 = \n",
        "division_2 = \n",
        "print()\n",
        "print() \n"
      ]
    },
    {
      "cell_type": "markdown",
      "metadata": {
        "id": "yU5P7PkqRMY-"
      },
      "source": [
        "# Logic Operators\n",
        "\n",
        "Analyzing logical statements is a very important part of Python.\n",
        "\n",
        "A statement or object with a True or False value is called a \"Boolean\" or \"bool\" data type in Python.\n",
        "\n",
        "- Less than: `a < b` returns True if a is less than b, and False if not\n",
        "- Greater than: `a > b` returns True if a is greater than b, and False if not\n",
        "- Equals to: `a == b` returns True of a is exactly equal to b, and False if not\n",
        "- Not equal to: `a != b` returns True if a is not exactly equal to b, and False if not\n",
        "- Less than or equal to: `a <= b` returns True if a is exactly equal to or less than b, and False if not\n",
        "- Greater than or equal to: `a >= b` returns True if a is greater than or equal to b, and false if not\n",
        "\n",
        "### How is this useful?\n",
        "\n",
        "For example, you might tell a program to do one of a series of actions depending on what conditions are true. Or you might reduce a dataset to the observations that meet certain criteria. Logic operators let you do this."
      ]
    },
    {
      "cell_type": "code",
      "execution_count": null,
      "metadata": {},
      "outputs": [],
      "source": [
        "# Examples: <, >, ==, !=, <=, >= \n",
        "\n",
        "# insert_code_here test if number < pi_value\n",
        "# insert_code_here test if number > pi_value\n",
        "# insert_code_here test if number == pi_value\n",
        "# insert_code_here test if number != pi_value\n",
        "# insert_code_here test if number <= pi_value\n",
        "# insert_code_here test if number >= pi_value\n",
        "print()\n",
        "print()\n",
        "print()\n",
        "print()\n",
        "print()\n",
        "print()"
      ]
    },
    {
      "cell_type": "markdown",
      "metadata": {
        "id": "RGNbdVN5RZLz"
      },
      "source": [
        "## Lists \n",
        "\n",
        "Lists are extremely important in Python. They let you contain any number of elements of any data type, which makes repeating operations much easier.\n",
        "\n",
        "With lists, you can access their elements with `list_name[number]` syntax. This number is called the `index`. Importantly, lists count from 0, so you'd get the first element with `list_name[0]`, the second with `list_name[1]`, etc.\n",
        "\n",
        "- one of the most fundamental data structures in Python\n",
        "- build lists using square brackets\n",
        "- they contain any number of elements, which can be any data type (including lists!)\n",
        "\n",
        "\n",
        "### How is this useful?\n",
        "\n",
        "When you're doing empirical work, you'll work with dataframes, which can be thought of a list of variables, and each variable has its list of observations, make a dataframe like a list of lists. \n",
        "\n",
        "As well, you might want to put related variables together to access easily, or feed into a function."
      ]
    },
    {
      "cell_type": "code",
      "execution_count": null,
      "metadata": {},
      "outputs": [],
      "source": [
        "# country = insert_code_here\n",
        "country = [\"canada\", \"usa\", \"china\", \"japan\"]\n",
        "\n",
        "# gdp = insert_code_here\n",
        "gdp = [44100, 55700, 16200, 39300]\n",
        "\n",
        "# carbon = insert_code_here\n",
        "carbon = [15.3, 16.6, 7.06, 9.14]\n",
        "\n",
        "# print country list\n",
        "# print length of country list\n",
        "# insert_code_here\n",
        "print(country)\n",
        "print(len(country))"
      ]
    },
    {
      "cell_type": "code",
      "execution_count": null,
      "metadata": {},
      "outputs": [],
      "source": [
        "# check type of country variable\n",
        "# check type of country variable entry indexed to 1\n",
        "# insert_code_here\n",
        "\n",
        "print()\n",
        "print()\n",
        "\n",
        "# check length of country variable\n",
        "# check length of country variable entry indexed to 1\n",
        "# insert_code_here\n",
        "len()"
      ]
    },
    {
      "cell_type": "markdown",
      "metadata": {
        "id": "THWgeVlRSDQx"
      },
      "source": [
        "Lists can also contain different data type, including lists. "
      ]
    },
    {
      "cell_type": "code",
      "execution_count": null,
      "metadata": {},
      "outputs": [],
      "source": [
        "# create \n",
        "# example1 = insert_code_here\n",
        "example_1 =[\"canada\", 15.3, \"usa\", 16.6, \"china\", 7.06, \"japan\", 9.14]\n",
        "\n",
        "# example2 = insert_code_here\n",
        "example_2 = [\n",
        "                [\"canada\", 15.3],\n",
        "                [\"usa\", 16.6],\n",
        "                [\"china\", 7.06],\n",
        "                [\"japan\", 9.14]]\n",
        "\n",
        "            \n",
        "# print example1\n",
        "# insert_code_here\n",
        "print(example_1)\n",
        "\n",
        "# print example2\n",
        "# insert_code_here\n",
        "print(example_2)\n",
        "\n",
        "# print \"length of example1: [value]\"\n",
        "# print(\"length of example2: \", insert_code_here)\n",
        "print(\"length of example1: \", )\n",
        "print(\"length of example2: \", )"
      ]
    },
    {
      "cell_type": "markdown",
      "metadata": {
        "id": "lMqYWQ5QmNXr"
      },
      "source": [
        "### Accessing List Elements: Singular\n",
        "\n",
        "Each element in a list can be accessed by an index. \n",
        "\n",
        "Unlike R, Python starts its indexing count at 0, so the first element would be accessed with `list[0]`. \n",
        "\n",
        "`list[1]` would get you the second element!"
      ]
    },
    {
      "cell_type": "code",
      "execution_count": null,
      "metadata": {},
      "outputs": [],
      "source": [
        "# print China's carbon emissions using data from example1\n",
        "# wrap the value in str() so that it can go in the print() function!\n",
        "# insert_code_here\n",
        "print(\"China's carbon emissions per capita are: \" + str(example_1[?]))\n",
        "\n",
        "# print Japan's carbon emissions using data from example2\n",
        "# insert_code_here\n",
        "print(\"Japan's's carbon emissions per capita are: \" + str(example_2[?][?]))"
      ]
    },
    {
      "cell_type": "markdown",
      "metadata": {
        "id": "4tcNjVDdmr9t"
      },
      "source": [
        "### Accessing List Elements: Multiple\n",
        "\n",
        "You access a series of list elements by \"slicing\", also done with square brackets.\n",
        "\n",
        "Slicing lists: `[start_index:end_index]`\n",
        "\n",
        "When you slice a list, it will access the element at `start_index`, but stop just before the element at `end_index`.\n",
        "\n",
        "If you leave either side of the `:` empty, it will slice all the way to the end on that side. So `example_1[2:]` will return `['usa', 16.6, 'china', 7.06, 'japan', 9.14]`, and `example_1[:2]` will return `['canada', 15.3]`\n",
        "\n",
        "You can also count backwards from the end of the list using negative values. \n"
      ]
    },
    {
      "cell_type": "code",
      "execution_count": null,
      "metadata": {},
      "outputs": [],
      "source": [
        "# as reminder of what's in `example_1`\n",
        "example_1"
      ]
    },
    {
      "cell_type": "code",
      "execution_count": null,
      "metadata": {
        "id": "Mz318DlnRYpF"
      },
      "outputs": [],
      "source": [
        "# print from usa to china using example1\n",
        "# insert_code_here\n",
        "\n",
        "# print from canada to usa using example1\n",
        "# insert_code_here\n",
        "\n",
        "# print from china to japan using example1\n",
        "# insert_code_here\n",
        "\n",
        "# print china's and japan's emissions only (no country name) using example2\n",
        "# insert_code_here"
      ]
    },
    {
      "cell_type": "code",
      "execution_count": null,
      "metadata": {
        "id": "K3AspHVBeqHf"
      },
      "outputs": [],
      "source": [
        "# print the index of a certain value in the list using .index() function\n",
        "# insert_code_here\n",
        "\n",
        "# change canada's emission from 15.3 to 16.3\n",
        "# insert_code_here\n",
        "\n",
        "# change Canada's entries to South Korea's emissions (12.9)\n",
        "# insert_code_here\n",
        "\n",
        "# print example1\n",
        "\n",
        "# add Canada's name and carbon emissions to the end of example_1\n",
        "# insert_code_here\n",
        "\n",
        "# print example1"
      ]
    },
    {
      "cell_type": "code",
      "execution_count": null,
      "metadata": {},
      "outputs": [],
      "source": [
        "# use the del() function to delete south korea from the list\n",
        "# insert_code_here\n",
        "\n",
        "# print example1\n",
        "\n",
        "# use the sum() function to sum elements in carbon\n",
        "# insert_code_here\n",
        "\n",
        "# use the for loop to access elements in a list\n",
        "# insert_code_here"
      ]
    },
    {
      "cell_type": "code",
      "execution_count": null,
      "metadata": {},
      "outputs": [],
      "source": [
        "for x in [1,2,3,4]:\n",
        "    print(x)"
      ]
    },
    {
      "cell_type": "markdown",
      "metadata": {
        "id": "3cEzkdbbeqHf"
      },
      "source": [
        "# Loops\n",
        "\n",
        "You'll often want to do one operation repeatedly a known number of times, possibly with a parameter changed each time. For loops allow you to do this. \n",
        "\n",
        "For Loops iterate through a set of steps. They are structured as such:\n",
        "\n",
        "     for x in iterable_object:\n",
        "\n",
        "       <do something>\n",
        "\n",
        "\n",
        "`iterable_object` can be a variable or object of any iterable data type. Strings, lists, dictionaries (which we'll learn in a second), tuples (a bit like lists), and other data types are iterable. This means you can go through their elements one at a time. \n",
        "\n",
        "The `x` value is entirely arbitrary. Python creates a new variable called `x`, or anything else you want, and sets it equal to the first element of the `iterable_object`. Then it completes the code block below. Once it's done, it sets `x` to the next value in `iterable_object` (hence, iterating through the object), and runs the code block again. It repeats this until there are no more elements in `iterable_object` to go through, and then the script terminates. "
      ]
    },
    {
      "cell_type": "code",
      "execution_count": 10,
      "metadata": {},
      "outputs": [
        {
          "data": {
            "text/html": [
              "<img src=\"https://media.geeksforgeeks.org/wp-content/uploads/20191101172216/for-loop-python.jpg\"/>"
            ],
            "text/plain": [
              "<IPython.core.display.Image object>"
            ]
          },
          "execution_count": 10,
          "metadata": {},
          "output_type": "execute_result"
        }
      ],
      "source": [
        "Image(url= \"https://media.geeksforgeeks.org/wp-content/uploads/20191101172216/for-loop-python.jpg\")"
      ]
    },
    {
      "cell_type": "markdown",
      "metadata": {},
      "source": [
        "Tip:\n",
        "\n",
        "If you've got a list you want to iterate through, and call every element in order, you can use a similar structure to sample loop 2 below. \n",
        "\n",
        "The first line is a basic loop, for the `i` in `range(len(your_list)):`\n",
        "\n",
        "The next line indexes through your list with `your_list[i]`. "
      ]
    },
    {
      "cell_type": "code",
      "execution_count": null,
      "metadata": {},
      "outputs": [],
      "source": [
        "# sample loop 1a\n",
        "\n",
        "numbers = [0, 1, 2, 3, 4, 5]\n",
        "\n",
        "for num in numbers:\n",
        "    print(\"Current number is: \", numbers[num])"
      ]
    },
    {
      "cell_type": "markdown",
      "metadata": {},
      "source": [
        "This block creates a list of numbers from 1-5. Then, for every \"num\" in this series of numbers, it prints \"Current number is:\" and the element of `numbers` indexed to `num`"
      ]
    },
    {
      "cell_type": "code",
      "execution_count": null,
      "metadata": {},
      "outputs": [],
      "source": [
        "# sample loop 1b\n",
        "\n",
        "numbers = [0, 1, 2, 3, 4, 5]\n",
        "\n",
        "for giraffe in numbers:\n",
        "    print(\"Current number is: \", numbers[giraffe])"
      ]
    },
    {
      "cell_type": "code",
      "execution_count": null,
      "metadata": {},
      "outputs": [],
      "source": [
        "# sample loop 1c\n",
        "\n",
        "gdp = [100, 2231, 3134231, 1434, 514316524]\n",
        "\n",
        "numbers = [0, 1, 2, 3, 4, 5]\n",
        "\n",
        "for gdp in numbers:\n",
        "    print(\"Current number is: \", numbers[gdp])"
      ]
    },
    {
      "cell_type": "markdown",
      "metadata": {},
      "source": [
        "As you can see, the name given to the indexing variable doesn't matter - we can call it `num`, `giraffe`, or just about anything but the variable being indexed through!\n",
        "\n",
        "This includes variables already in use, like `gdp`."
      ]
    },
    {
      "cell_type": "code",
      "execution_count": null,
      "metadata": {},
      "outputs": [],
      "source": [
        "# sample loop 2\n",
        "\n",
        "for value in gdp:\n",
        "    print(value*2)"
      ]
    },
    {
      "cell_type": "code",
      "execution_count": null,
      "metadata": {},
      "outputs": [],
      "source": [
        "# sample loop 3: more complex/useful\n",
        "population = [38929000, 442503000, 1426000000, 125569000]\n",
        "\n",
        "for i in range(len(population)):\n",
        "    print(population[i]*gdp[i])"
      ]
    },
    {
      "cell_type": "markdown",
      "metadata": {},
      "source": [
        "## Dictionaries\n",
        "\n",
        "Dictionaries are a data type that contains multiple other objects, like lists. Unlike lists, these `values` each correspond to a unique `key` that can access them directly. \n",
        "\n",
        "Say you've got a lot of books to organize. \n",
        "\n",
        "- If you throw them in a pile in no particular order, that's a `list`\n",
        "- If you put them on a shelf so you can see their titles and easily take the one you want, that's a `dictionary`\n"
      ]
    },
    {
      "cell_type": "code",
      "execution_count": 8,
      "metadata": {},
      "outputs": [
        {
          "data": {
            "text/html": [
              "<img src=\"https://pynative.com/wp-content/uploads/2021/02/dictionaries-in-python.jpg\"/>"
            ],
            "text/plain": [
              "<IPython.core.display.Image object>"
            ]
          },
          "execution_count": 8,
          "metadata": {},
          "output_type": "execute_result"
        }
      ],
      "source": [
        "Image(url= \"https://pynative.com/wp-content/uploads/2021/02/dictionaries-in-python.jpg\")"
      ]
    },
    {
      "cell_type": "markdown",
      "metadata": {
        "id": "ydxxSV38hQee"
      },
      "source": [
        "Dictionaries at a glance:\n",
        "\n",
        "- hold key:value pairs\n",
        "- use curly brackets `{ }`\n",
        "- use `data['key']` to access value of a given key\n",
        "- can access keys with .keys() method\n",
        "- can access values with .values() method\n",
        "\n",
        "\n",
        "Why are these useful?\n",
        "\n",
        "This basic idea, of some data which is accesible by a direct name, forms the basic idea behind a DataFrame or database. In a DataFrame, you have a list of data series which are given specific names you can access them with. For a database, you'll have multiple named dataframes. "
      ]
    },
    {
      "cell_type": "code",
      "execution_count": null,
      "metadata": {},
      "outputs": [],
      "source": [
        "simple_dict = {\"a\": 10, \"b\": 20, \"c\": 30}\n",
        "print(simple_dict.keys())\n",
        "print(simple_dict.values())\n",
        "print(simple_dict[\"a\"])"
      ]
    },
    {
      "cell_type": "code",
      "execution_count": null,
      "metadata": {},
      "outputs": [],
      "source": [
        "print(country)\n",
        "print(carbon)"
      ]
    },
    {
      "cell_type": "code",
      "execution_count": null,
      "metadata": {
        "id": "aahkTv-ohZoh"
      },
      "outputs": [],
      "source": [
        "# Let's say we want to access USA's emissions from the carbon list\n",
        "# But we don't know the index of USA in the country list \n",
        "\n",
        "# First access the index of USA from the country list\n",
        "# usa_index = insert_code_here\n",
        "\n",
        "\n",
        "# Access USA's emissions from the carbon list using this index number\n",
        "# insert_code_here\n",
        "\n",
        "\n",
        "# This method works but is not that efficient\n",
        "\n"
      ]
    },
    {
      "cell_type": "code",
      "execution_count": null,
      "metadata": {
        "id": "znZS2s42h6JF"
      },
      "outputs": [],
      "source": [
        "# Define a dictionary called emissions\n",
        "# insert_code_here\n",
        "\n",
        "# print china's emissions\n",
        "# insert_code_here\n",
        "\n",
        "# add south korea (12.9) to the dictionary\n",
        "# insert_code_here\n",
        "\n",
        "# print emissions\n",
        "# insert_code_here\n",
        "\n",
        "# change south korea's emissions to 15\n",
        "# insert_code_here\n",
        "\n",
        "# print emissions \n",
        "# insert_code_here\n",
        "\n",
        "# use del() function to delete south korea from the dict\n",
        "# insert_code_here\n",
        "\n",
        "# print emissions\n",
        "# insert_code_here\n",
        "\n",
        "# create a nested dictionary called data containing GDP and carbon emissions\n",
        "# insert_code_here\n",
        "\n",
        "# print canada's carbon emissions\n",
        "# insert_code_here\n",
        "\n",
        "# add china (gdp = 16200, carbon = 7.06) to data\n",
        "# insert_code_here\n",
        "# insert_code_here\n",
        "\n",
        "# print data\n",
        "# insert_code_here\n",
        "\n",
        "# method 1 to use for loops with dictionaries to access each element\n",
        "# insert_code_here\n",
        "\n",
        "# method 2 to use for loops with dictionaries to access each element  \n",
        "# insert_code_here\n"
      ]
    },
    {
      "cell_type": "code",
      "execution_count": null,
      "metadata": {},
      "outputs": [],
      "source": [
        "# dictionary for loops\n",
        "\n",
        "\n",
        "# use method 1 to loop through `data`\n",
        "\n",
        "\n",
        "# use method 2 to loop through `data`"
      ]
    },
    {
      "cell_type": "code",
      "execution_count": null,
      "metadata": {},
      "outputs": [],
      "source": [
        "# accessing keys:\n",
        "\n",
        "emissions.keys()"
      ]
    },
    {
      "cell_type": "code",
      "execution_count": null,
      "metadata": {},
      "outputs": [],
      "source": [
        "# accesing values\n",
        "\n",
        "emissions.values()"
      ]
    },
    {
      "cell_type": "markdown",
      "metadata": {
        "id": "IFJO6vQZjEKf"
      },
      "source": [
        "## Functions"
      ]
    },
    {
      "cell_type": "markdown",
      "metadata": {},
      "source": [
        "Functions are a core part of Python - we've already been using some pre-defined ones like `print()`. We can also create our own functions, which lets us reuse our code without copy/pasting it. \n",
        "\n",
        "This makes writing and re-reading code much easier. Writing programs out of smaller functions is a big part of \"good\" Python coding practices. \n",
        "\n",
        "Functions have multiple necessary components.\n"
      ]
    },
    {
      "cell_type": "code",
      "execution_count": 24,
      "metadata": {},
      "outputs": [
        {
          "data": {
            "image/png": "[encoded data removed]",
            "text/plain": [
              "<IPython.core.display.Image object>"
            ]
          },
          "execution_count": 24,
          "metadata": {},
          "output_type": "execute_result"
        }
      ],
      "source": [
        "Image(\"https://www.fireblazeaischool.in/blogs/wp-content/uploads/2020/06/Capture-1.png\")"
      ]
    },
    {
      "cell_type": "markdown",
      "metadata": {},
      "source": [
        "1. You tell Python you're defining a function with the `def` keyword\n",
        "2. The function's name comes next\n",
        "3. Inside round brackets, you name all of the arguments (i.e. inputs) the function takes\n",
        "4. After the round brackets, you use a colon `:` to end the line\n",
        "5. The function's code body - what it does - comes on the next lines, indented by a tab space. Most code editors will add this indent on their own.\n",
        "6. You may include a `return ____` statement if you want to use your function to assign a value."
      ]
    },
    {
      "cell_type": "code",
      "execution_count": null,
      "metadata": {},
      "outputs": [],
      "source": [
        "# example function\n",
        "\n",
        "def doubler(x):\n",
        "    x = x*2\n",
        "    return x\n",
        "\n",
        "y = doubler(x = 10)\n",
        "print(y)"
      ]
    },
    {
      "cell_type": "markdown",
      "metadata": {},
      "source": [
        "We define the `doubler()` function, which takes an input, `x`, doubles, it, and returns it. Below, we create a new variable, `y`, equal to the output of `doubler()` when we input 10.\n",
        "\n",
        "As we see with `print(y)`, `y` is equal to 20.\n",
        "\n",
        "In this case, we do need the `return` statement, since we want to use `doubler` in creating new variables."
      ]
    },
    {
      "cell_type": "code",
      "execution_count": null,
      "metadata": {
        "id": "y_ln_HrvjG1V"
      },
      "outputs": [],
      "source": [
        "# Define a function called my_function that prints \"Hello [name]. Welcome to class today!\"\n",
        "# insert_code_here\n",
        "  \n",
        "# Pass your name to the function you just defined\n",
        "# insert_code_here\n",
        "\n",
        "# Modify my_function so that it prints out first and last names\n",
        "# insert_code_here\n",
        "  \n",
        "# Pass your first and last names to the function you just defined\n",
        "# insert_code_here\n",
        "\n",
        "# Create a function called add_function that takes 2 arguments and prints their sum\n",
        "# insert_code_here\n",
        "\n",
        "# Try passing 20 and 22 into add_function and check if you get 42\n",
        "# insert_code_here\n"
      ]
    },
    {
      "cell_type": "markdown",
      "metadata": {
        "id": "XYL1w9wWHktN"
      },
      "source": [
        "# Exercise\n",
        "\n",
        "Kim has been asked to use Python to analyze the following dataset.\n",
        "\n",
        "![casestudy.png](data:image/png;base64,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)\n",
        "\n",
        "- Create one or more Python \"dictionaries\" for all data in the above table (Hint: You can use nested dictionaries for the fruits and quantity/rejected, and use lists to hold the values)\n",
        "- Print fruit dictionary\n",
        "- Print the sum of all \"Orange\" Total Quantity and sum of all \"Orange\" Quantity Rejected\n",
        "- Calculate and print the rejection rate for \"Orange\"\n",
        "- Calculate and print the maximum of \"Orange\" Total Quantity (Hint: use `max()` function)\n"
      ]
    },
    {
      "cell_type": "code",
      "execution_count": null,
      "metadata": {
        "id": "CL4WQG0PneXr"
      },
      "outputs": [],
      "source": [
        "# create fruit dictionary\n",
        "\n",
        "# fruit = {'insert_code_here': {'insert_code_here': insert_code_here,\n",
        "#                      'insert_code_here': insert_code_here},\n",
        "#          'insert_code_here': {'quantity': insert_code_here,\n",
        "#                      'rejected': insert_code_here}}\n",
        "\n",
        "fruit = {\"oranges\": {\"quantity\": [3000, 6000, 12000],\n",
        "                    \"rejected\": [1400, 3500, 6700]},\n",
        "         \"bananas\": {\"quantity\": [500, 3000, 15000],\n",
        "                     \"rejected\": [700, 1750, 3350]} }\n",
        "\n",
        "# print fruit dictionary\n",
        "# insert_code_here\n",
        "\n",
        "\n",
        "# print the sum of all \"Orange\" Total Quantity\n",
        "# print(\"Quantity = \", insert_code_here)\n",
        "\n",
        "\n",
        "# print the sum of all \"Orange\" Total Rejected\n",
        "\n",
        "\n",
        "# print(\"Quantity = \", insert_code_here)\n",
        "\n",
        "\n",
        "# calculate and print the rejection rate for \"Orange\" \n",
        "# use round() to round to 2 decimal places only\n",
        "\n",
        "\n",
        "print(\"Orange rejection rate = \", round(orange_rejrate, 2))\n",
        "\n",
        "# calculate and print max of \"Orange\" total quantity\n",
        "print(\"Orange max qty: \", max(fruit[\"oranges\"][\"quantity\"]))"
      ]
    }
  ],
  "metadata": {
    "colab": {
      "collapsed_sections": [
        "ydxxSV38hQee",
        "IFJO6vQZjEKf"
      ],
      "provenance": []
    },
    "kernelspec": {
      "display_name": "Python 3.10.8 64-bit (microsoft store)",
      "language": "python",
      "name": "python3"
    },
    "language_info": {
      "codemirror_mode": {
        "name": "ipython",
        "version": 3
      },
      "file_extension": ".py",
      "mimetype": "text/x-python",
      "name": "python",
      "nbconvert_exporter": "python",
      "pygments_lexer": "ipython3",
      "version": "3.10.8"
    },
    "vscode": {
      "interpreter": {
        "hash": "1fe7e41c9bb0b147e1ac01489d9b996242ca02dfd918f083681118eb31588365"
      }
    }
  },
  "nbformat": 4,
  "nbformat_minor": 0
}
