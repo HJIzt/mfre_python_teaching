{
  "cells": [
    {
      "cell_type": "markdown",
      "metadata": {
        "id": "POkrqmgRqgHE"
      },
      "source": [
        "# **MFRE Data Analytics Workshop 3 - Python I**\n",
        "\n",
        "[Student Name]\n",
        "\n",
        "November 8, 2021"
      ]
    },
    {
      "cell_type": "markdown",
      "metadata": {
        "id": "s303NHH3q1Og"
      },
      "source": [
        "## Try it out"
      ]
    },
    {
      "cell_type": "code",
      "source": [
        "# run this cell with Ctrl + Enter\n",
        "\n",
        "print(\"MFRE!\")"
      ],
      "metadata": {
        "colab": {
          "base_uri": "https://localhost:8080/"
        },
        "id": "pZj32kUHfN0M",
        "outputId": "1b342d35-078f-48ab-9c9b-165ec67cdf84"
      },
      "execution_count": null,
      "outputs": [
        {
          "output_type": "stream",
          "name": "stdout",
          "text": [
            "MFRE!\n"
          ]
        }
      ]
    },
    {
      "cell_type": "code",
      "source": [
        "# run this cell with Shift + Enter\n",
        "# it will automatically move you to the next\n",
        "print(\"Python!\")"
      ],
      "metadata": {
        "colab": {
          "base_uri": "https://localhost:8080/"
        },
        "id": "L44L9RUGfSzJ",
        "outputId": "6ece8e28-acc2-4e64-849e-bf16dc5bd796"
      },
      "execution_count": null,
      "outputs": [
        {
          "output_type": "stream",
          "name": "stdout",
          "text": [
            "Python!\n"
          ]
        }
      ]
    },
    {
      "cell_type": "code",
      "source": [
        "# comment this terrible code out with Ctrl + /\n",
        "def bad_function(variable_2):"
      ],
      "metadata": {
        "id": "tuWTUHvOfo_E"
      },
      "execution_count": null,
      "outputs": []
    },
    {
      "cell_type": "code",
      "execution_count": null,
      "metadata": {
        "id": "5foGBnbrmz6G"
      },
      "outputs": [],
      "source": [
        "# print out the sum of 2 + 2\n"
      ]
    },
    {
      "cell_type": "code",
      "execution_count": null,
      "metadata": {
        "id": "qzo7pyYtr7LI",
        "outputId": "89f331a7-4e52-4efb-cb5c-45d5136391b7"
      },
      "outputs": [
        {
          "name": "stdout",
          "output_type": "stream",
          "text": [
            "Hello World!\n"
          ]
        }
      ],
      "source": [
        "# print \"Hello World\"\n"
      ]
    },
    {
      "cell_type": "markdown",
      "metadata": {
        "id": "pTTy1kduq3VD"
      },
      "source": [
        "Strings, integers, and floats"
      ]
    },
    {
      "cell_type": "code",
      "execution_count": null,
      "metadata": {
        "id": "FbHH5a4bq65G",
        "outputId": "e3cfeb0a-7f37-45e3-a54f-ab6b055544ba"
      },
      "outputs": [
        {
          "name": "stdout",
          "output_type": "stream",
          "text": [
            "42\n",
            "Data Carpentry\n"
          ]
        }
      ],
      "source": [
        "# assign \"Data Carpentry\" to the object text\n",
        "# text = insert_code_here\n",
        "\n",
        "text = \n",
        "\n",
        "# assign 42 to the object number\n",
        "# insert_code_here\n",
        "\n",
        "number = \n",
        "\n",
        "# assign 3.1415 to the object pi_value\n",
        "# insert_code_here\n",
        "\n",
        "pi_value = \n",
        "\n",
        "# print text\n",
        "# use print() to print the value of number\n",
        "# use print() to print the value of text\n",
        "\n",
        "print()\n",
        "print()"
      ]
    },
    {
      "cell_type": "code",
      "source": [
        "# take the types of all variables created above\n",
        " \n",
        "\n"
      ],
      "metadata": {
        "id": "WkaOwRtJgdSm",
        "colab": {
          "base_uri": "https://localhost:8080/"
        },
        "outputId": "b60a6954-52d7-4b86-bb4e-6251ddc0a46f"
      },
      "execution_count": null,
      "outputs": [
        {
          "output_type": "execute_result",
          "data": {
            "text/plain": [
              "int"
            ]
          },
          "metadata": {},
          "execution_count": 4
        }
      ]
    },
    {
      "cell_type": "markdown",
      "metadata": {
        "id": "B_Rb7lAwQ0m7"
      },
      "source": [
        "Operators"
      ]
    },
    {
      "cell_type": "code",
      "execution_count": null,
      "metadata": {
        "id": "rmJ4CGZ0Q4ny",
        "outputId": "545ce223-cd14-4c0f-e959-98e02e567a4c",
        "colab": {
          "base_uri": "https://localhost:8080/",
          "height": 131
        }
      },
      "outputs": [
        {
          "output_type": "error",
          "ename": "SyntaxError",
          "evalue": "ignored",
          "traceback": [
            "\u001b[0;36m  File \u001b[0;32m\"<ipython-input-5-93316f070d94>\"\u001b[0;36m, line \u001b[0;32m4\u001b[0m\n\u001b[0;31m    addition =\u001b[0m\n\u001b[0m               ^\u001b[0m\n\u001b[0;31mSyntaxError\u001b[0m\u001b[0;31m:\u001b[0m invalid syntax\n"
          ]
        }
      ],
      "source": [
        "# Addition: +\n",
        "# insert_code_here\n",
        "print(\"Addition:\")\n",
        "addition = \n",
        "print()\n",
        "\n",
        "# Subtraction: -\n",
        "# insert_code_here\n",
        "print(\"Subtraction:\")\n",
        "subtraction = \n",
        "print()\n",
        "\n",
        "\n",
        "# Multiplication: *\n",
        "# insert_code_here\n",
        "print(\"Multiplication\")\n",
        "multiplication = \n",
        "print()\n",
        "\n",
        "# Power: **\n",
        "# insert_code_here\n",
        "print(\"Exponent\")\n",
        "power_1 = \n",
        "power_2 = \n",
        "print()\n",
        "print()\n",
        "\n",
        "# Modulo: %\n",
        "# insert_code_here\n",
        "print(\"Modulo\")\n",
        "modulo_1 = \n",
        "modulo_2 = \n",
        "print()\n",
        "print()\n",
        "\n",
        "# Division: /\n",
        "# insert_code_here\n",
        "print(\"Division\")\n",
        "division_1 = \n",
        "division_2 = \n",
        "print()\n",
        "print() \n"
      ]
    },
    {
      "cell_type": "markdown",
      "metadata": {
        "id": "yU5P7PkqRMY-"
      },
      "source": [
        "Logic Operators"
      ]
    },
    {
      "cell_type": "code",
      "execution_count": null,
      "metadata": {
        "id": "yDP_Y94ERJ57",
        "outputId": "83e13bfc-26cb-4335-92e0-ba3aaaf49c70"
      },
      "outputs": [
        {
          "name": "stdout",
          "output_type": "stream",
          "text": [
            "False\n",
            "True\n",
            "False\n",
            "True\n",
            "False\n",
            "True\n"
          ]
        }
      ],
      "source": [
        "# Examples: <, >, ==, !=, <=, >= \n",
        "\n",
        "# insert_code_here test if number < pi_value\n",
        "# insert_code_here test if number > pi_value\n",
        "# insert_code_here test if number == pi_value\n",
        "# insert_code_here test if number != pi_value\n",
        "# insert_code_here test if number <= pi_value\n",
        "# insert_code_here test if number >= pi_value\n",
        "print()\n",
        "print()\n",
        "print()\n",
        "print()\n",
        "print()\n",
        "print()"
      ]
    },
    {
      "cell_type": "markdown",
      "metadata": {
        "id": "RGNbdVN5RZLz"
      },
      "source": [
        "## Lists \n",
        "- one of the most fundamental data structures in Python\n",
        "- build lists using square brackets"
      ]
    },
    {
      "cell_type": "code",
      "execution_count": null,
      "metadata": {
        "id": "CW17EIF8Rgrz",
        "outputId": "6670cca7-096f-4b9b-f9fa-31dc94d00a1f",
        "colab": {
          "base_uri": "https://localhost:8080/"
        }
      },
      "outputs": [
        {
          "output_type": "stream",
          "name": "stdout",
          "text": [
            "['canada', 'usa', 'china', 'japan']\n",
            "4\n"
          ]
        }
      ],
      "source": [
        "# country = insert_code_here\n",
        "country = [\"canada\", \"usa\", \"china\", \"japan\"]\n",
        "\n",
        "# gdp = insert_code_here\n",
        "gdp = [44100, 55700, 16200, 39300]\n",
        "\n",
        "# carbon = insert_code_here\n",
        "carbon = [15.3, 16.6, 7.06, 9.14]\n",
        "\n",
        "# print country list\n",
        "# print length of country list\n",
        "# insert_code_here\n",
        "print(country)\n",
        "print(len(country))"
      ]
    },
    {
      "cell_type": "code",
      "execution_count": null,
      "metadata": {
        "id": "VzNFV-C6RuQC",
        "outputId": "1d940c9f-4aaf-4646-e515-c3c3d3328144"
      },
      "outputs": [
        {
          "name": "stdout",
          "output_type": "stream",
          "text": [
            "<class 'list'>\n",
            "<class 'str'>\n"
          ]
        },
        {
          "data": {
            "text/plain": [
              "4"
            ]
          },
          "execution_count": 52,
          "metadata": {},
          "output_type": "execute_result"
        }
      ],
      "source": [
        "# check type of country variable\n",
        "# check type of country variable entry indexed to 1\n",
        "# insert_code_here\n",
        "\n",
        "print()\n",
        "print()\n",
        "\n",
        "# check length of country variable\n",
        "# check length of country variable entry indexed to 1\n",
        "# insert_code_here\n",
        "len()"
      ]
    },
    {
      "cell_type": "markdown",
      "metadata": {
        "id": "THWgeVlRSDQx"
      },
      "source": [
        "Lists can also contain different data type, including lists. "
      ]
    },
    {
      "cell_type": "code",
      "execution_count": null,
      "metadata": {
        "id": "GGavR2HuSHva",
        "colab": {
          "base_uri": "https://localhost:8080/"
        },
        "outputId": "01cf43df-5d62-4561-c1c5-afba30322718"
      },
      "outputs": [
        {
          "output_type": "stream",
          "name": "stdout",
          "text": [
            "['canada', 15.3, 'usa', 16.6, 'china', 7.06, 'japan', 9.14]\n",
            "[['canada', 15.3], ['usa', 16.6], ['china', 7.06], ['japan', 9.14]]\n",
            "length of example1:  8\n",
            "length of example2:  4\n"
          ]
        }
      ],
      "source": [
        "# create \n",
        "# example1 = insert_code_here\n",
        "example_1 =[\"canada\", 15.3, \"usa\", 16.6, \"china\", 7.06, \"japan\", 9.14]\n",
        "\n",
        "# example2 = insert_code_here\n",
        "example_2 = [\n",
        "                [\"canada\", 15.3],\n",
        "                [\"usa\", 16.6],\n",
        "                [\"china\", 7.06],\n",
        "                [\"japan\", 9.14]]\n",
        "\n",
        "            \n",
        "# print example1\n",
        "# insert_code_here\n",
        "print(example_1)\n",
        "\n",
        "# print example2\n",
        "# insert_code_here\n",
        "print(example_2)\n",
        "\n",
        "# print \"length of example1: [value]\"\n",
        "# print(\"length of example2: \", insert_code_here)\n",
        "print(\"length of example1: \", )\n",
        "print(\"length of example2: \", )"
      ]
    },
    {
      "cell_type": "markdown",
      "metadata": {
        "id": "lMqYWQ5QmNXr"
      },
      "source": [
        "Each element in a list can be accessed by an index. "
      ]
    },
    {
      "cell_type": "code",
      "execution_count": null,
      "metadata": {
        "id": "WNNTRVUASCa5",
        "outputId": "11f17e38-2823-4ac9-eaef-b84e916df580"
      },
      "outputs": [
        {
          "name": "stdout",
          "output_type": "stream",
          "text": [
            "China's carbon emissions per capita are: 7.06\n"
          ]
        },
        {
          "ename": "IndexError",
          "evalue": "list index out of range",
          "output_type": "error",
          "traceback": [
            "\u001b[1;31m---------------------------------------------------------------------------\u001b[0m",
            "\u001b[1;31mIndexError\u001b[0m                                Traceback (most recent call last)",
            "Cell \u001b[1;32mIn [20], line 8\u001b[0m\n\u001b[0;32m      4\u001b[0m \u001b[39mprint\u001b[39m(\u001b[39m\"\u001b[39m\u001b[39mChina\u001b[39m\u001b[39m'\u001b[39m\u001b[39ms carbon emissions per capita are: \u001b[39m\u001b[39m\"\u001b[39m \u001b[39m+\u001b[39m \u001b[39mstr\u001b[39m(example_1[\u001b[39m5\u001b[39m]))\n\u001b[0;32m      6\u001b[0m \u001b[39m# print Japan's carbon emissions using data from example2\u001b[39;00m\n\u001b[0;32m      7\u001b[0m \u001b[39m# insert_code_here\u001b[39;00m\n\u001b[1;32m----> 8\u001b[0m \u001b[39mprint\u001b[39m(\u001b[39m\"\u001b[39m\u001b[39mJapan\u001b[39m\u001b[39m'\u001b[39m\u001b[39ms\u001b[39m\u001b[39m'\u001b[39m\u001b[39ms carbon emissions per capita are: \u001b[39m\u001b[39m\"\u001b[39m \u001b[39m+\u001b[39m \u001b[39mstr\u001b[39m(example_2[\u001b[39m7\u001b[39;49m]))\n",
            "\u001b[1;31mIndexError\u001b[0m: list index out of range"
          ]
        }
      ],
      "source": [
        "# print China's carbon emissions using data from example1\n",
        "# wrap the value in str() so that it can go in the print() function!\n",
        "# insert_code_here\n",
        "print(\"China's carbon emissions per capita are: \" + str(example_1[?]))\n",
        "\n",
        "# print Japan's carbon emissions using data from example2\n",
        "# insert_code_here\n",
        "print(\"Japan's's carbon emissions per capita are: \" + str(example_2[?][?]))\n",
        "\n"
      ]
    },
    {
      "cell_type": "markdown",
      "metadata": {
        "id": "4tcNjVDdmr9t"
      },
      "source": [
        "Slicing lists `[start_index:end_index]`\n",
        "\n",
        "When you slice a list, it will access the element at `start_index`, but stop just before the element at `end_index`.\n",
        "\n",
        "If you leave either side of the `:` empty, it will slice all the way to the end on that side. So `example_1[2:]` will return `['usa', 16.6, 'china', 7.06, 'japan', 9.14]`, and `example_1[:2]` will return `['canada', 15.3]`\n",
        "\n",
        "You can also count backwards using negative values. \n"
      ]
    },
    {
      "cell_type": "code",
      "execution_count": null,
      "metadata": {
        "colab": {
          "base_uri": "https://localhost:8080/",
          "height": 166
        },
        "id": "TfidG_jleqHe",
        "outputId": "648b242a-4fe9-4047-92c7-1969787e238e"
      },
      "outputs": [
        {
          "output_type": "error",
          "ename": "NameError",
          "evalue": "ignored",
          "traceback": [
            "\u001b[0;31m---------------------------------------------------------------------------\u001b[0m",
            "\u001b[0;31mNameError\u001b[0m                                 Traceback (most recent call last)",
            "\u001b[0;32m<ipython-input-6-e1a04519cff7>\u001b[0m in \u001b[0;36m<module>\u001b[0;34m\u001b[0m\n\u001b[0;32m----> 1\u001b[0;31m \u001b[0mcountry\u001b[0m\u001b[0;34m\u001b[0m\u001b[0;34m\u001b[0m\u001b[0m\n\u001b[0m",
            "\u001b[0;31mNameError\u001b[0m: name 'country' is not defined"
          ]
        }
      ],
      "source": [
        "country"
      ]
    },
    {
      "cell_type": "code",
      "execution_count": null,
      "metadata": {
        "colab": {
          "base_uri": "https://localhost:8080/",
          "height": 166
        },
        "id": "IGk56wQteqHe",
        "outputId": "dd60f5ee-89bb-4e55-c2e3-c662ada4dacf"
      },
      "outputs": [
        {
          "output_type": "error",
          "ename": "NameError",
          "evalue": "ignored",
          "traceback": [
            "\u001b[0;31m---------------------------------------------------------------------------\u001b[0m",
            "\u001b[0;31mNameError\u001b[0m                                 Traceback (most recent call last)",
            "\u001b[0;32m<ipython-input-8-5bda45012684>\u001b[0m in \u001b[0;36m<module>\u001b[0;34m\u001b[0m\n\u001b[0;32m----> 1\u001b[0;31m \u001b[0mexample_1\u001b[0m\u001b[0;34m\u001b[0m\u001b[0;34m\u001b[0m\u001b[0m\n\u001b[0m",
            "\u001b[0;31mNameError\u001b[0m: name 'example_1' is not defined"
          ]
        }
      ],
      "source": [
        "# as reminder of what's in `example_1`\n",
        "example_1"
      ]
    },
    {
      "cell_type": "code",
      "execution_count": null,
      "metadata": {
        "id": "Mz318DlnRYpF"
      },
      "outputs": [],
      "source": [
        "# print from usa to china using example1\n",
        "# insert_code_here\n",
        "\n",
        "# print from canada to usa using example1\n",
        "# insert_code_here\n",
        "\n",
        "# print from china to japan using example1\n",
        "# insert_code_here\n",
        "\n",
        "# print china's and japan's emissions only (no country name) using example2\n",
        "# insert_code_here"
      ]
    },
    {
      "cell_type": "code",
      "execution_count": null,
      "metadata": {
        "id": "s92JAY3xeqHf",
        "outputId": "f85a8aaa-c095-42e1-da5e-124bdfab62cd"
      },
      "outputs": [
        {
          "data": {
            "text/plain": [
              "['7.06', '9.14']"
            ]
          },
          "execution_count": 13,
          "metadata": {},
          "output_type": "execute_result"
        }
      ],
      "source": [
        "# can do this better with a numpy array - but that's beyond the scope of this workshop\n",
        "\n",
        "import numpy as np\n",
        "\n",
        "matrix_2 = np.array(example_2)\n",
        "list(matrix_2[2:, 1])"
      ]
    },
    {
      "cell_type": "code",
      "execution_count": null,
      "metadata": {
        "id": "K3AspHVBeqHf"
      },
      "outputs": [],
      "source": [
        "# print the index of a certain value in the list using .index() function\n",
        "# insert_code_here\n",
        "\n",
        "# change canada's emission from 15.3 to 16.3\n",
        "# insert_code_here\n",
        "\n",
        "# change Canada's entries to South Korea's emissions (12.9)\n",
        "# insert_code_here\n",
        "\n",
        "# print example1\n",
        "\n",
        "# add Canada's name and carbon emissions to the end of example_1\n",
        "# insert_code_here\n",
        "\n",
        "# print example1\n",
        "\n",
        "# use the del() function to delete south korea from the list\n",
        "# insert_code_here\n",
        "\n",
        "# print example1\n",
        "\n",
        "# use the sum() function to sum elements in carbon\n",
        "# insert_code_here\n",
        "\n",
        "# use the for loop to access elements in a list\n",
        "# insert_code_here"
      ]
    },
    {
      "cell_type": "markdown",
      "metadata": {
        "id": "3cEzkdbbeqHf"
      },
      "source": [
        "# Loops\n",
        "\n",
        "For Loops iterate through a set of steps. They are structured as such:\n",
        "\n",
        "     for x in y_list:\n",
        "\n",
        "       <do something>\n",
        "\n",
        "\n",
        "Tip:\n",
        "\n",
        "If you've got a list you want to iterate through, and call every element in order, you can use a similar structure to sample loop 2 below. \n",
        "\n",
        "The first line is a basic loop, for the `i` in `range(len(your_list)):`\n",
        "\n",
        "The next line indexes through your list with `your_list[i]`. \n"
      ]
    },
    {
      "cell_type": "code",
      "execution_count": null,
      "metadata": {
        "id": "0PuMOEoReqHg",
        "outputId": "f4b30aa0-49ba-4a9f-edf0-d9a0076df949"
      },
      "outputs": [
        {
          "name": "stdout",
          "output_type": "stream",
          "text": [
            "88200\n",
            "111400\n",
            "32400\n",
            "78600\n"
          ]
        }
      ],
      "source": [
        "# sample loop 1\n",
        "\n",
        "for value in gdp:\n",
        "    print(value*2)"
      ]
    },
    {
      "cell_type": "code",
      "execution_count": null,
      "metadata": {
        "id": "m2zyLZtgeqHg",
        "outputId": "2267604a-071b-4dd5-f706-a40afc677c36"
      },
      "outputs": [
        {
          "name": "stdout",
          "output_type": "stream",
          "text": [
            "1716768900000\n",
            "24647417100000\n",
            "23101200000000\n",
            "4934861700000\n"
          ]
        }
      ],
      "source": [
        "# sample loop 2: more complex/useful\n",
        "population = [38929000, 442503000, 1426000000, 125569000]\n",
        "\n",
        "for i in range(len(population)):\n",
        "    print(population[i]*gdp[i])"
      ]
    },
    {
      "cell_type": "markdown",
      "metadata": {
        "id": "ydxxSV38hQee"
      },
      "source": [
        "## Dictionaries\n",
        "\n",
        "- hold key:value pairs\n",
        "- use curly brackets `{ }`\n",
        "- use `data['key']` to access value of a given key\n",
        "- can access keys with .keys() method\n",
        "- can access values with .values() method"
      ]
    },
    {
      "cell_type": "code",
      "source": [
        "simple_dict = {\"a\": 1, \"b\": 2}\n",
        "print(simple_dict.keys())\n",
        "print(simple_dict.values())\n",
        "print(simple_dict[\"a\"])"
      ],
      "metadata": {
        "colab": {
          "base_uri": "https://localhost:8080/"
        },
        "id": "OM64xbtwmuND",
        "outputId": "2a1b86e1-358c-4cdd-cc70-5b9b099d4705"
      },
      "execution_count": null,
      "outputs": [
        {
          "output_type": "stream",
          "name": "stdout",
          "text": [
            "dict_keys(['a', 'b'])\n",
            "dict_values([1, 2])\n",
            "1\n"
          ]
        }
      ]
    },
    {
      "cell_type": "code",
      "source": [
        "print(country)\n",
        "print(carbon)"
      ],
      "metadata": {
        "colab": {
          "base_uri": "https://localhost:8080/"
        },
        "id": "9RHy38KUrcjc",
        "outputId": "d8247adc-824c-48bb-a985-6b8cadcf14cf"
      },
      "execution_count": null,
      "outputs": [
        {
          "output_type": "stream",
          "name": "stdout",
          "text": [
            "['canada', 'usa', 'china', 'japan']\n",
            "[15.3, 16.6, 7.06, 9.14]\n"
          ]
        },
        {
          "output_type": "execute_result",
          "data": {
            "text/plain": [
              "16.6"
            ]
          },
          "metadata": {},
          "execution_count": 24
        }
      ]
    },
    {
      "cell_type": "code",
      "execution_count": null,
      "metadata": {
        "id": "aahkTv-ohZoh"
      },
      "outputs": [],
      "source": [
        "# Let's say we want to access USA's emissions from the carbon list\n",
        "# But we don't know the index of USA in the country list \n",
        "\n",
        "# First access the index of USA from the country list\n",
        "# usa_index = insert_code_here\n",
        "\n",
        "\n",
        "# Access USA's emissions from the carbon list using this index number\n",
        "# insert_code_here\n",
        "\n",
        "\n",
        "# This method works but is not that efficient\n",
        "\n"
      ]
    },
    {
      "cell_type": "code",
      "execution_count": null,
      "metadata": {
        "id": "znZS2s42h6JF"
      },
      "outputs": [],
      "source": [
        "# Define a dictionary called emissions\n",
        "# insert_code_here\n",
        "\n",
        "# print china's emissions\n",
        "# insert_code_here\n",
        "\n",
        "# add south korea (12.9) to the dictionary\n",
        "# insert_code_here\n",
        "\n",
        "# print emissions\n",
        "# insert_code_here\n",
        "\n",
        "# change south korea's emissions to 15\n",
        "# insert_code_here\n",
        "\n",
        "# print emissions \n",
        "# insert_code_here\n",
        "\n",
        "# use del() function to delete south korea from the dict\n",
        "# insert_code_here\n",
        "\n",
        "# print emissions\n",
        "# insert_code_here\n",
        "\n",
        "# create a nested dictionary called data containing GDP and carbon emissions\n",
        "# insert_code_here\n",
        "\n",
        "# print canada's carbon emissions\n",
        "# insert_code_here\n",
        "\n",
        "# add china (gdp = 16200, carbon = 7.06) to data\n",
        "# insert_code_here\n",
        "# insert_code_here\n",
        "\n",
        "# print data\n",
        "# insert_code_here\n",
        "\n",
        "# method 1 to use for loops with dictionaries to access each element\n",
        "# insert_code_here\n",
        "\n",
        "# method 2 to use for loops with dictionaries to access each element  \n",
        "# insert_code_here\n"
      ]
    },
    {
      "cell_type": "code",
      "source": [
        "# dictionary for loops\n",
        "\n",
        "\n",
        "# use method 1 to loop through `data`\n",
        "\n",
        "\n",
        "# use method 2 to loop through `data`"
      ],
      "metadata": {
        "colab": {
          "base_uri": "https://localhost:8080/"
        },
        "id": "SsPIO4YxtGQ-",
        "outputId": "012f501f-fba4-46b1-da95-b2c3510ee7f3"
      },
      "execution_count": null,
      "outputs": [
        {
          "output_type": "stream",
          "name": "stdout",
          "text": [
            "canada :  {'gdp': 44100, 'carbon': 15.3}\n",
            "usa :  {'gdp': 55700, 'carbon': 16.6}\n",
            "china :  {'gdp': 16200, 'carbon': 7.06}\n",
            "canada :  {'gdp': 44100, 'carbon': 15.3}\n",
            "usa :  {'gdp': 55700, 'carbon': 16.6}\n",
            "china :  {'gdp': 16200, 'carbon': 7.06}\n"
          ]
        }
      ]
    },
    {
      "cell_type": "code",
      "execution_count": null,
      "metadata": {
        "id": "2_-RfNzQeqHh",
        "outputId": "beb40186-be90-4183-b1ea-d372f013d7ef"
      },
      "outputs": [
        {
          "data": {
            "text/plain": [
              "dict_keys(['canada', 'usa', 'china', 'japan'])"
            ]
          },
          "execution_count": 17,
          "metadata": {},
          "output_type": "execute_result"
        }
      ],
      "source": [
        "# accessing keys:\n",
        "\n",
        "emissions.keys()"
      ]
    },
    {
      "cell_type": "code",
      "execution_count": null,
      "metadata": {
        "id": "RPT4OhYmeqHh",
        "outputId": "4cd0d186-42fb-4ede-8817-06cde0d4931c"
      },
      "outputs": [
        {
          "data": {
            "text/plain": [
              "dict_values([15.3, 16.6, 7.06, 9.14])"
            ]
          },
          "execution_count": 31,
          "metadata": {},
          "output_type": "execute_result"
        }
      ],
      "source": [
        "# accesing values\n",
        "\n",
        "emissions.values()"
      ]
    },
    {
      "cell_type": "markdown",
      "metadata": {
        "id": "IFJO6vQZjEKf"
      },
      "source": [
        "## Functions"
      ]
    },
    {
      "cell_type": "code",
      "execution_count": null,
      "metadata": {
        "id": "y_ln_HrvjG1V"
      },
      "outputs": [],
      "source": [
        "# Define a function called my_function that prints \"Hello [name]. Welcome to class today!\"\n",
        "# insert_code_here\n",
        "  \n",
        "# Pass your name to the function you just defined\n",
        "# insert_code_here\n",
        "\n",
        "# Modify my_function so that it prints out first and last names\n",
        "# insert_code_here\n",
        "  \n",
        "# Pass your first and last names to the function you just defined\n",
        "# insert_code_here\n",
        "\n",
        "# Create a function called add_function that takes 2 arguments and prints their sum\n",
        "# insert_code_here\n",
        "\n",
        "# Try passing 20 and 22 into add_function and check if you get 42\n",
        "# insert_code_here\n"
      ]
    },
    {
      "cell_type": "markdown",
      "metadata": {
        "id": "XYL1w9wWHktN"
      },
      "source": [
        "# Exercise\n",
        "\n",
        "Kim has been asked to use Python to analyze the following dataset.\n",
        "\n",
        "![casestudy.png](data:image/png;base64,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)\n",
        "\n",
        "- Create one or more Python \"dictionaries\" for all data in the above table (Hint: You can use nested dictionaries for the fruits and quantity/rejected, and use lists to hold the values)\n",
        "- Print fruit dictionary\n",
        "- Print the sum of all \"Orange\" Total Quantity and sum of all \"Orange\" Quantity Rejected\n",
        "- Calculate and print the rejection rate for \"Orange\"\n",
        "- Calculate and print the maximum of \"Orange\" Total Quantity (Hint: use `max()` function)\n"
      ]
    },
    {
      "cell_type": "code",
      "source": [
        "# create fruit dictionary\n",
        "\n",
        "# fruit = {'insert_code_here': {'insert_code_here': insert_code_here,\n",
        "#                      'insert_code_here': insert_code_here},\n",
        "#          'insert_code_here': {'quantity': insert_code_here,\n",
        "#                      'rejected': insert_code_here}}\n",
        "\n",
        "fruit = {\"oranges\": {\"quantity\": [3000, 6000, 12000],\n",
        "                    \"rejected\": [1400, 3500, 6700]},\n",
        "         \"bananas\": {\"quantity\": [500, 3000, 15000],\n",
        "                     \"rejected\": [700, 1750, 3350]} }\n",
        "\n",
        "# print fruit dictionary\n",
        "# insert_code_here\n",
        "\n",
        "\n",
        "# print the sum of all \"Orange\" Total Quantity\n",
        "# print(\"Quantity = \", insert_code_here)\n",
        "\n",
        "\n",
        "# print the sum of all \"Orange\" Total Rejected\n",
        "\n",
        "\n",
        "# print(\"Quantity = \", insert_code_here)\n",
        "\n",
        "\n",
        "# calculate and print the rejection rate for \"Orange\" \n",
        "# use round() to round to 2 decimal places only\n",
        "\n",
        "\n",
        "print(\"Orange rejection rate = \", round(orange_rejrate, 2))\n",
        "\n",
        "# calculate and print max of \"Orange\" total quantity\n",
        "print(\"Orange max qty: \", max(fruit[\"oranges\"][\"quantity\"]))"
      ],
      "metadata": {
        "id": "CL4WQG0PneXr"
      },
      "execution_count": null,
      "outputs": []
    },
    {
      "cell_type": "markdown",
      "metadata": {
        "id": "2UfP7G4peqHi"
      },
      "source": [
        "# Harry's Challenges\n",
        "\n",
        "I've made some additions to Krisha's original workshop - a number of coding problems for you to work on. I'll have office hours on Monday (and perhaps later in the week) to help you with these. They are not mandatory, but giving them a go is recommended. Applying concepts with coding is the only way to really learn them.\n",
        "\n",
        "They may be too difficult or easy depending on your experience level. If they're hard, come to office hours for help. I struggled on the median calculator quite a bit, so don't stress yourself out on that one in particular."
      ]
    },
    {
      "cell_type": "markdown",
      "metadata": {
        "id": "CS32JBLTeqHi"
      },
      "source": [
        "# 1. List Arithmetic\n",
        "\n",
        "We've defined the lists `country`, `carbon`, and `gdp`. You can perform addition, multiplication, or any other mathematical operation with the elements of lists. Can you write a for loop that prints each GDP value divided by the Carbon value with the same index? Try to make it generalizable - so if we add a country's data to each list, you can still run the same loop and make all the calculations.\n",
        "\n",
        "I'll suggest a few functions that might be useful.\n",
        "\n",
        "The `len()` function takes an object and returns a number equal to how many elements it has. \n",
        "\n",
        "The `range()` function takes a number, and creates a range of that many integers starting at 0 and counting up.\n",
        "\n",
        "So, range(6) would return 0, 1, 2, 3, 4, and 5. You can iterate through a range using a for loop. "
      ]
    },
    {
      "cell_type": "code",
      "execution_count": null,
      "metadata": {
        "id": "e6UjVrNkeqHi",
        "outputId": "048df28e-fc2e-4020-903a-b508a57ac44a"
      },
      "outputs": [
        {
          "name": "stdout",
          "output_type": "stream",
          "text": [
            "0\n",
            "1\n",
            "2\n",
            "3\n",
            "4\n",
            "5\n"
          ]
        }
      ],
      "source": [
        "for i in range(6):\n",
        "    print(i)"
      ]
    },
    {
      "cell_type": "code",
      "execution_count": null,
      "metadata": {
        "id": "SWZaCl3meqHi",
        "outputId": "614f844f-125e-471f-8f83-c0adaacc9139"
      },
      "outputs": [
        {
          "data": {
            "text/plain": [
              "3355.4216867469877"
            ]
          },
          "execution_count": 22,
          "metadata": {},
          "output_type": "execute_result"
        }
      ],
      "source": [
        "gdp[1]/carbon[1]"
      ]
    },
    {
      "cell_type": "code",
      "execution_count": null,
      "metadata": {
        "id": "iFi3LzOYeqHj",
        "outputId": "feb1c180-6979-4c05-cb0a-8c4d4e6a4364"
      },
      "outputs": [
        {
          "name": "stdout",
          "output_type": "stream",
          "text": [
            "3418.6046511627906\n",
            "3355.4216867469877\n",
            "2294.6175637393767\n",
            "4299.781181619256\n"
          ]
        }
      ],
      "source": [
        "# answer\n",
        "\n",
        "for i in range(len(country)):\n",
        "    print(gdp[i]/carbon[i])"
      ]
    },
    {
      "cell_type": "markdown",
      "metadata": {
        "id": "HWoIM0QmeqHj"
      },
      "source": [
        "# 2. Mean calculator\n",
        "\n",
        "~~Create a calculator that returns unkind comments.~~\n",
        "\n",
        "Ahem.\n",
        "\n",
        "Create a function called `calculate_mean()`, which takes a list of numbers and returns the mean. You can do this either with a loop iterating through the elements, or mathematical functions.\n",
        "\n",
        "As a reminder, the mean of a data series is equal to the sum of its elements, divided by the number of elements. So, the mean of the series [1, 2, 3, 4, 5, 6] is equal to (1+2+3+4+5+6)/6 = 3.\n",
        "\n",
        "![mean.png](data:image/png;base64,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)"
      ]
    },
    {
      "cell_type": "code",
      "execution_count": null,
      "metadata": {
        "id": "D1E5W5xoeqHj"
      },
      "outputs": [],
      "source": [
        "# answer\n",
        "\n",
        "def calculate_mean(list):\n",
        "    \"\"\"\n",
        "    Code a loop that sums the values in `list`, divides by how many values it has,\n",
        "    assigns this to `mean`, and then returns `mean`\n",
        "    \"\"\"\n",
        "        \n",
        "    mean = \n",
        "    return mean"
      ]
    },
    {
      "cell_type": "markdown",
      "metadata": {
        "id": "SPmOgiWKeqHj"
      },
      "source": [
        "### Mean Calculator Tests"
      ]
    },
    {
      "cell_type": "code",
      "execution_count": null,
      "metadata": {
        "id": "Itx8Eyg7eqHj",
        "outputId": "9fdf0222-ad61-441e-8223-f9d4c2beabfb"
      },
      "outputs": [
        {
          "data": {
            "text/plain": [
              "3.5"
            ]
          },
          "execution_count": 25,
          "metadata": {},
          "output_type": "execute_result"
        }
      ],
      "source": [
        "# this should return 3.5\n",
        "calculate_mean([1, 2, 3, 4, 5, 6])"
      ]
    },
    {
      "cell_type": "code",
      "execution_count": null,
      "metadata": {
        "id": "MpZquJeneqHj",
        "outputId": "3370dda7-9c1a-446f-dec2-fcc295c26612"
      },
      "outputs": [
        {
          "data": {
            "text/plain": [
              "-6891.0"
            ]
          },
          "execution_count": 38,
          "metadata": {},
          "output_type": "execute_result"
        }
      ],
      "source": [
        "# this should return -6891.0\n",
        "calculate_mean([100, 200, -129321, 122, 94444])"
      ]
    },
    {
      "cell_type": "markdown",
      "metadata": {
        "id": "-PP8u4NueqHk"
      },
      "source": [
        "# 3. Bond Value Calculator\n",
        "\n",
        "Say that the government raises money with bonds that cost $100 now, grow at an interest rate of 5% per year, and are repaid in 10 years. How much would one of these be worth then?\n",
        "\n",
        "Credit to [Quantecon Datascience](https://datascience.quantecon.org/python_fundamentals/control_flow.html#ex2-3) for inspiring this with a similar exercise."
      ]
    },
    {
      "cell_type": "code",
      "execution_count": null,
      "metadata": {
        "id": "BCQB3XO4eqHk"
      },
      "outputs": [],
      "source": [
        "# answer\n",
        "# fill in the equation for the bond's return as `mature_value`\n",
        "\n",
        "mature_value = \n",
        "print(\"The bond is paid off at: \", mature_value)"
      ]
    },
    {
      "cell_type": "markdown",
      "metadata": {
        "id": "g1GEAgM2eqHk"
      },
      "source": [
        "Now extend this. Create `bond_calculator()`, a function that takes a principal amount, an interest rate, and a number of years, and returns how much the bond returns at maturity."
      ]
    },
    {
      "cell_type": "code",
      "execution_count": null,
      "metadata": {
        "id": "Jywu0M3yeqHk"
      },
      "outputs": [],
      "source": [
        "# answer\n",
        "\n",
        "def bond_calculator(principal, interest, years):\n",
        "    maturity = #calculate return\n",
        "    return maturity"
      ]
    },
    {
      "cell_type": "markdown",
      "metadata": {
        "id": "_jwWlOvoeqHk"
      },
      "source": [
        "### Bond Calculator Tests"
      ]
    },
    {
      "cell_type": "code",
      "execution_count": 44,
      "metadata": {
        "id": "krXf58B6eqHk",
        "outputId": "525432cb-550e-4737-83e1-1d07c9744ab9",
        "colab": {
          "base_uri": "https://localhost:8080/",
          "height": 184
        }
      },
      "outputs": [
        {
          "output_type": "error",
          "ename": "NameError",
          "evalue": "ignored",
          "traceback": [
            "\u001b[0;31m---------------------------------------------------------------------------\u001b[0m",
            "\u001b[0;31mNameError\u001b[0m                                 Traceback (most recent call last)",
            "\u001b[0;32m<ipython-input-44-70ca4635c642>\u001b[0m in \u001b[0;36m<module>\u001b[0;34m\u001b[0m\n\u001b[1;32m      1\u001b[0m \u001b[0;31m# this should return 162.8894626777442\u001b[0m\u001b[0;34m\u001b[0m\u001b[0;34m\u001b[0m\u001b[0;34m\u001b[0m\u001b[0m\n\u001b[0;32m----> 2\u001b[0;31m \u001b[0mbond_calculator\u001b[0m\u001b[0;34m(\u001b[0m\u001b[0;36m100\u001b[0m\u001b[0;34m,\u001b[0m \u001b[0;36m0.05\u001b[0m\u001b[0;34m,\u001b[0m \u001b[0;36m10\u001b[0m\u001b[0;34m)\u001b[0m\u001b[0;34m\u001b[0m\u001b[0;34m\u001b[0m\u001b[0m\n\u001b[0m",
            "\u001b[0;31mNameError\u001b[0m: name 'bond_calculator' is not defined"
          ]
        }
      ],
      "source": [
        "# this should return 162.8894626777442\n",
        "bond_calculator(100, 0.05, 10)"
      ]
    },
    {
      "cell_type": "code",
      "execution_count": 45,
      "metadata": {
        "id": "OWqTObE0eqHk",
        "outputId": "cd93562c-e9f7-49b4-892e-e3d3561d0f03",
        "colab": {
          "base_uri": "https://localhost:8080/",
          "height": 184
        }
      },
      "outputs": [
        {
          "output_type": "error",
          "ename": "NameError",
          "evalue": "ignored",
          "traceback": [
            "\u001b[0;31m---------------------------------------------------------------------------\u001b[0m",
            "\u001b[0;31mNameError\u001b[0m                                 Traceback (most recent call last)",
            "\u001b[0;32m<ipython-input-45-d8bc975cec34>\u001b[0m in \u001b[0;36m<module>\u001b[0;34m\u001b[0m\n\u001b[1;32m      1\u001b[0m \u001b[0;31m# this should return 13150.125784630402\u001b[0m\u001b[0;34m\u001b[0m\u001b[0;34m\u001b[0m\u001b[0;34m\u001b[0m\u001b[0m\n\u001b[0;32m----> 2\u001b[0;31m \u001b[0mbond_calculator\u001b[0m\u001b[0;34m(\u001b[0m\u001b[0;36m100\u001b[0m\u001b[0;34m,\u001b[0m \u001b[0;36m0.05\u001b[0m\u001b[0;34m,\u001b[0m \u001b[0;36m100\u001b[0m\u001b[0;34m)\u001b[0m\u001b[0;34m\u001b[0m\u001b[0;34m\u001b[0m\u001b[0m\n\u001b[0m",
            "\u001b[0;31mNameError\u001b[0m: name 'bond_calculator' is not defined"
          ]
        }
      ],
      "source": [
        "# this should return 13150.125784630402\n",
        "bond_calculator(100, 0.05, 100)"
      ]
    },
    {
      "cell_type": "code",
      "execution_count": null,
      "metadata": {
        "id": "U9dKWS4HeqHk"
      },
      "outputs": [],
      "source": [
        "# this should return 132654.2344955023\n",
        "bond_calculator(50, 0.59, 17)"
      ]
    },
    {
      "cell_type": "markdown",
      "metadata": {
        "id": "IFM47YNKeqHk"
      },
      "source": [
        "# 4. (Very) Big Challenge: Median calculator\n",
        "\n",
        "![median.png](data:image/png;base64,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)\n",
        "\n",
        "\n",
        "The median of a series is the middlemost ordered value (if there's an odd number of elements) or the average of the two middlemost ordered values (if there is an even number of elements). \n",
        "\n",
        "For example, the series [1, 2, 3, 4, 1000000] has 5 elements, and the middlemost must be the third. Therefore the median is 3. \n",
        "\n",
        "In the series [1, 2, 100, 200], the median is (2+100)/2 = 51.\n",
        "\n",
        "Create a function called `calculate_median()` that takes a list of numbers and returns the median.\n",
        "\n",
        "This is a big leap in difficulty from the others, so I'll help you out a bit. Some methods and functions that will be useful:\n",
        "\n",
        "- the `sort()` function is called after a list of numbers, and sorts the list into ascending ascending order. \n",
        "- the `math` module's `floor()` function returns the greatest integer not greater than the value input\n",
        "- from the same module, the `ceil()` function returns the integer you'd get from rounding up the input\n",
        "\n",
        "These will help you find the middle (or two middlemost) numbers.\n",
        "\n",
        "This took me more time than I'd like to admit, so view it as a stretch goal if you've got time and feel comfortable. Not mandatory!"
      ]
    },
    {
      "cell_type": "code",
      "execution_count": null,
      "metadata": {
        "id": "T12vLIaGeqHl",
        "outputId": "6caea6f7-e63e-4359-bd63-7dc97d0a8a6d"
      },
      "outputs": [
        {
          "data": {
            "text/plain": [
              "[1, 2, 2, 4, 5, 7, 1000, 90000]"
            ]
          },
          "execution_count": 31,
          "metadata": {},
          "output_type": "execute_result"
        }
      ],
      "source": [
        "# demonstration of .sort()\n",
        "\n",
        "ex_list = [1, 4, 2, 5, 7, 2, 1000, 90000]\n",
        "ex_list.sort()\n",
        "ex_list\n",
        "# now `ex_list` is in ascending order"
      ]
    },
    {
      "cell_type": "code",
      "execution_count": null,
      "metadata": {
        "id": "vgdGMm9_eqHl",
        "outputId": "41111412-70fa-4196-c967-78e270d27139"
      },
      "outputs": [
        {
          "name": "stdout",
          "output_type": "stream",
          "text": [
            "2\n",
            "2\n",
            "2\n",
            "2\n",
            "2\n"
          ]
        }
      ],
      "source": [
        "# demonstration of floor()\n",
        "from math import floor\n",
        "\n",
        "print(floor(2.5))\n",
        "print(floor(2.9))\n",
        "print(floor(2.1))\n",
        "print(floor(2))\n",
        "print(floor(1.9999999999999999999999999999999999999999))"
      ]
    },
    {
      "cell_type": "code",
      "execution_count": null,
      "metadata": {
        "id": "4DWcB3XoeqHl",
        "outputId": "2b40a97a-eac7-422a-86c5-5e9814bf4a1c"
      },
      "outputs": [
        {
          "name": "stdout",
          "output_type": "stream",
          "text": [
            "3\n",
            "3\n",
            "3\n",
            "2\n",
            "2\n"
          ]
        }
      ],
      "source": [
        "# demonstration of ceil()\n",
        "from math import ceil\n",
        "\n",
        "print(ceil(2.5))\n",
        "print(ceil(2.9))\n",
        "print(ceil(2.1))\n",
        "print(ceil(2))\n",
        "print(ceil(1.9999999999999999999999999999999999999999))"
      ]
    },
    {
      "cell_type": "markdown",
      "metadata": {
        "id": "ERVRhF6peqHl"
      },
      "source": [
        "This is also a good time to use the modulo operator, which returns the remainder of a division operation. \n",
        "\n",
        "If a number X can divide by 2 without a remainder, this is equivalent to X modulo 2 = 0, and equivalent to it being even.\n",
        "\n",
        "If a number X cannot divide by 2 without a remainder, this is equivalent to X modulo 2 != 0, and equivalent to it not being even. In other words, X is odd."
      ]
    },
    {
      "cell_type": "code",
      "execution_count": null,
      "metadata": {
        "id": "-PLZNNqXeqHl",
        "outputId": "80df00c0-1095-4d8d-bb17-74c31819f6a2"
      },
      "outputs": [
        {
          "name": "stdout",
          "output_type": "stream",
          "text": [
            "1\n",
            "False\n",
            "0\n",
            "True\n"
          ]
        }
      ],
      "source": [
        "# the remainder of 3/2 is not 0, therefore 3 is not an even number\n",
        "print(3 % 2)\n",
        "print((3 % 2) == 0)\n",
        "\n",
        "# the remainder of 4/2 is 0, therefore 4 is an even number\n",
        "print(4 % 2)\n",
        "print((4 % 2) == 0)"
      ]
    },
    {
      "cell_type": "code",
      "execution_count": null,
      "metadata": {
        "id": "GVvKcDT6eqHl"
      },
      "outputs": [],
      "source": [
        "# answer\n",
        "\n",
        "def calculate_median(value_list):\n",
        "    \"\"\" \n",
        "    Takes `value_list` and finds the median.\n",
        "    \n",
        "    You'll want to create a conditional loop for a case when `value_list`\n",
        "    has an even number of elements, and a different one for when it's odd.\n",
        "    \n",
        "    Remember that python accesses list elements indexing from 0. So in \n",
        "    a list with 5 elements, they are 0, 1, 2, 3, and 4, so the middle\n",
        "    would be [2].\n",
        "    \"\"\"\n",
        "\n",
        "    \n",
        "        # odd case\n",
        "    if #list length is odd:\n",
        "        \n",
        "        median = #find middle value\n",
        "        return median\n",
        "    \n",
        "    # if not odd must be even, therefore:\n",
        "    else:\n",
        "        \n",
        "        median = #average of two middlemost values\n",
        "        return median"
      ]
    },
    {
      "cell_type": "markdown",
      "metadata": {
        "id": "AFMYUUoueqHm"
      },
      "source": [
        "### Median Calculator Tests"
      ]
    },
    {
      "cell_type": "code",
      "execution_count": null,
      "metadata": {
        "id": "se6Uu5bTeqHm",
        "outputId": "214a4227-687d-4625-ad51-09263f607a77"
      },
      "outputs": [
        {
          "data": {
            "text/plain": [
              "3"
            ]
          },
          "execution_count": 11,
          "metadata": {},
          "output_type": "execute_result"
        }
      ],
      "source": [
        "# this should return 3\n",
        "calculate_median([1, 2, 3, 4, 5])"
      ]
    },
    {
      "cell_type": "code",
      "execution_count": null,
      "metadata": {
        "id": "NYcyb2cmeqHm",
        "outputId": "f6fb4c2c-b64d-4c2f-d9d8-0d6cc535c83c"
      },
      "outputs": [
        {
          "data": {
            "text/plain": [
              "3.5"
            ]
          },
          "execution_count": 12,
          "metadata": {},
          "output_type": "execute_result"
        }
      ],
      "source": [
        "# this should return 3.5\n",
        "calculate_median([1, 6, 4, 3, 5, 2])"
      ]
    },
    {
      "cell_type": "code",
      "execution_count": null,
      "metadata": {
        "id": "GvIijPT4eqHm",
        "outputId": "33b35e85-5406-46c9-feed-d61491945b0a"
      },
      "outputs": [
        {
          "data": {
            "text/plain": [
              "5.5"
            ]
          },
          "execution_count": 13,
          "metadata": {},
          "output_type": "execute_result"
        }
      ],
      "source": [
        "# this should return 5.5\n",
        "calculate_median([10000000, 3, 2, 4, 9, 6, 7, 8, 5, 1])"
      ]
    },
    {
      "cell_type": "code",
      "execution_count": null,
      "metadata": {
        "id": "kd9A9Ru7eqHm",
        "outputId": "f9152295-30ed-456e-e042-767e3f183f4e"
      },
      "outputs": [
        {
          "data": {
            "text/plain": [
              "5"
            ]
          },
          "execution_count": 14,
          "metadata": {},
          "output_type": "execute_result"
        }
      ],
      "source": [
        "# this should return 5\n",
        "calculate_median([1, 9, 3, 4, 6, 5, 7, 2, 8])"
      ]
    },
    {
      "cell_type": "code",
      "execution_count": null,
      "metadata": {
        "id": "Whxd8lbneqHm"
      },
      "outputs": [],
      "source": []
    }
  ],
  "metadata": {
    "colab": {
      "provenance": [],
      "collapsed_sections": [
        "ydxxSV38hQee",
        "IFJO6vQZjEKf"
      ]
    },
    "kernelspec": {
      "display_name": "Python 3.10.8 64-bit (microsoft store)",
      "language": "python",
      "name": "python3"
    },
    "language_info": {
      "codemirror_mode": {
        "name": "ipython",
        "version": 3
      },
      "file_extension": ".py",
      "mimetype": "text/x-python",
      "name": "python",
      "nbconvert_exporter": "python",
      "pygments_lexer": "ipython3",
      "version": "3.10.8"
    },
    "vscode": {
      "interpreter": {
        "hash": "1fe7e41c9bb0b147e1ac01489d9b996242ca02dfd918f083681118eb31588365"
      }
    }
  },
  "nbformat": 4,
  "nbformat_minor": 0
}